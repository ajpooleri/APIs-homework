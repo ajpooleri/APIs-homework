{
 "cells": [
  {
   "cell_type": "markdown",
   "metadata": {},
   "source": [
    "# Unit 5 - Financial Planning\n"
   ]
  },
  {
   "cell_type": "code",
   "execution_count": 1,
   "metadata": {},
   "outputs": [],
   "source": [
    "# Initial imports\n",
    "import os\n",
    "import requests\n",
    "import pandas as pd\n",
    "from dotenv import load_dotenv\n",
    "import alpaca_trade_api as tradeapi\n",
    "from MCForecastTools import MCSimulation\n",
    "\n",
    "%matplotlib inline"
   ]
  },
  {
   "cell_type": "code",
   "execution_count": 2,
   "metadata": {},
   "outputs": [
    {
     "data": {
      "text/plain": [
       "True"
      ]
     },
     "execution_count": 2,
     "metadata": {},
     "output_type": "execute_result"
    }
   ],
   "source": [
    "# Load .env enviroment variables\n",
    "load_dotenv()"
   ]
  },
  {
   "cell_type": "markdown",
   "metadata": {},
   "source": [
    "## Part 1 - Personal Finance Planner"
   ]
  },
  {
   "cell_type": "markdown",
   "metadata": {},
   "source": [
    "### Collect Crypto Prices Using the `requests` Library"
   ]
  },
  {
   "cell_type": "code",
   "execution_count": 3,
   "metadata": {},
   "outputs": [],
   "source": [
    "# Set current amount of crypto assets\n",
    "my_btc = 1.2\n",
    "my_eth = 5.3"
   ]
  },
  {
   "cell_type": "code",
   "execution_count": 4,
   "metadata": {},
   "outputs": [
    {
     "data": {
      "text/plain": [
       "{'data': {'1': {'id': 1,\n",
       "   'name': 'Bitcoin',\n",
       "   'symbol': 'BTC',\n",
       "   'website_slug': 'bitcoin',\n",
       "   'rank': 1,\n",
       "   'circulating_supply': 18528750,\n",
       "   'total_supply': 18528750,\n",
       "   'max_supply': 21000000,\n",
       "   'quotes': {'USD': {'price': 13304.47,\n",
       "     'volume_24h': 26880019061,\n",
       "     'market_cap': 246515217194,\n",
       "     'percentage_change_1h': 0.32000157695137,\n",
       "     'percentage_change_24h': -2.4606933816136,\n",
       "     'percentage_change_7d': 11.7205155823269,\n",
       "     'percent_change_1h': 0.32000157695137,\n",
       "     'percent_change_24h': -2.4606933816136,\n",
       "     'percent_change_7d': 11.7205155823269},\n",
       "    'CAD': {'price': 17710.910464,\n",
       "     'volume_24h': 35782681374.0032,\n",
       "     'market_cap': 328161057128.653,\n",
       "     'percent_change_1h': 0.32000157695137,\n",
       "     'percent_change_24h': -2.4606933816136,\n",
       "     'percent_change_7d': 11.7205155823269}},\n",
       "   'last_updated': 1603928366}},\n",
       " 'metadata': {'timestamp': 1603928366,\n",
       "  'num_cryptocurrencies': 1430,\n",
       "  'error': None}}"
      ]
     },
     "execution_count": 4,
     "metadata": {},
     "output_type": "execute_result"
    }
   ],
   "source": [
    "# Crypto API URLs\n",
    "btc_url = \"https://api.alternative.me/v2/ticker/Bitcoin/?convert=CAD\"\n",
    "eth_url = \"https://api.alternative.me/v2/ticker/Ethereum/?convert=CAD\"\n",
    "\n",
    "requests.get(btc_url).json()"
   ]
  },
  {
   "cell_type": "code",
   "execution_count": 5,
   "metadata": {},
   "outputs": [
    {
     "name": "stdout",
     "output_type": "stream",
     "text": [
      "The current value of your 1.2 BTC is $15965.36\n",
      "The current value of your 5.3 ETH is $2060.80\n"
     ]
    }
   ],
   "source": [
    "# Fetch current BTC price\n",
    "response_data = requests.get(btc_url).json()\n",
    "price_btc = response_data['data']['1']['quotes']['USD']['price']\n",
    "\n",
    "# Fetch current ETH price\n",
    "response_data = requests.get(eth_url).json()\n",
    "price_eth = response_data['data']['1027']['quotes']['USD']['price']\n",
    "\n",
    "# Compute current value of my crpto\n",
    "my_btc_value = my_btc * price_btc\n",
    "my_eth_value = my_eth * price_eth\n",
    "\n",
    "# Print current crypto wallet balance\n",
    "print(f\"The current value of your {my_btc} BTC is ${my_btc_value:0.2f}\")\n",
    "print(f\"The current value of your {my_eth} ETH is ${my_eth_value:0.2f}\")"
   ]
  },
  {
   "cell_type": "markdown",
   "metadata": {},
   "source": [
    "### Collect Investments Data Using Alpaca: `SPY` (stocks) and `AGG` (bonds)"
   ]
  },
  {
   "cell_type": "code",
   "execution_count": 6,
   "metadata": {},
   "outputs": [],
   "source": [
    "# Current amount of shares\n",
    "my_spy = 50\n",
    "my_agg = 200"
   ]
  },
  {
   "cell_type": "code",
   "execution_count": 7,
   "metadata": {},
   "outputs": [],
   "source": [
    "# Set Alpaca API key and secret\n",
    "alpaca_api_key = os.getenv(\"ALPACA_API_KEY\")\n",
    "alpaca_secret_key = os.getenv(\"ALPACA_SECRET_KEY\")\n",
    "\n",
    "# Create the Alpaca API object\n",
    "alpaca = tradeapi.REST(\n",
    "    alpaca_api_key,\n",
    "    alpaca_secret_key,\n",
    "    api_version=\"v2\")\n"
   ]
  },
  {
   "cell_type": "code",
   "execution_count": 8,
   "metadata": {},
   "outputs": [
    {
     "data": {
      "text/html": [
       "<div>\n",
       "<style scoped>\n",
       "    .dataframe tbody tr th:only-of-type {\n",
       "        vertical-align: middle;\n",
       "    }\n",
       "\n",
       "    .dataframe tbody tr th {\n",
       "        vertical-align: top;\n",
       "    }\n",
       "\n",
       "    .dataframe thead tr th {\n",
       "        text-align: left;\n",
       "    }\n",
       "</style>\n",
       "<table border=\"1\" class=\"dataframe\">\n",
       "  <thead>\n",
       "    <tr>\n",
       "      <th></th>\n",
       "      <th colspan=\"5\" halign=\"left\">AGG</th>\n",
       "      <th colspan=\"5\" halign=\"left\">SPY</th>\n",
       "    </tr>\n",
       "    <tr>\n",
       "      <th></th>\n",
       "      <th>open</th>\n",
       "      <th>high</th>\n",
       "      <th>low</th>\n",
       "      <th>close</th>\n",
       "      <th>volume</th>\n",
       "      <th>open</th>\n",
       "      <th>high</th>\n",
       "      <th>low</th>\n",
       "      <th>close</th>\n",
       "      <th>volume</th>\n",
       "    </tr>\n",
       "  </thead>\n",
       "  <tbody>\n",
       "    <tr>\n",
       "      <th>2020-10-20 00:00:00-04:00</th>\n",
       "      <td>117.7</td>\n",
       "      <td>117.71</td>\n",
       "      <td>117.58</td>\n",
       "      <td>117.64</td>\n",
       "      <td>3624855</td>\n",
       "      <td>343.46</td>\n",
       "      <td>346.88</td>\n",
       "      <td>342.64</td>\n",
       "      <td>343.34</td>\n",
       "      <td>48206853</td>\n",
       "    </tr>\n",
       "  </tbody>\n",
       "</table>\n",
       "</div>"
      ],
      "text/plain": [
       "                             AGG                                      SPY  \\\n",
       "                            open    high     low   close   volume    open   \n",
       "2020-10-20 00:00:00-04:00  117.7  117.71  117.58  117.64  3624855  343.46   \n",
       "\n",
       "                                                             \n",
       "                             high     low   close    volume  \n",
       "2020-10-20 00:00:00-04:00  346.88  342.64  343.34  48206853  "
      ]
     },
     "execution_count": 8,
     "metadata": {},
     "output_type": "execute_result"
    }
   ],
   "source": [
    "# Format current date as ISO format\n",
    "current_date = pd.Timestamp(\"2020-10-20\", tz=\"America/New_York\").isoformat()\n",
    "\n",
    "# Set the tickers\n",
    "tickers = [\"AGG\", \"SPY\"]\n",
    "\n",
    "# Set timeframe to '1D' for Alpaca API\n",
    "timeframe = \"1D\"\n",
    "\n",
    "# Get current closing prices for SPY and AGG\n",
    "data = alpaca.get_barset(\n",
    "    tickers,\n",
    "    timeframe,\n",
    "    start = current_date,\n",
    "    end = current_date\n",
    ").df\n",
    "\n",
    "# Preview DataFrame\n",
    "data"
   ]
  },
  {
   "cell_type": "code",
   "execution_count": 9,
   "metadata": {},
   "outputs": [
    {
     "name": "stdout",
     "output_type": "stream",
     "text": [
      "Current AGG closing price: $117.64\n",
      "Current SPY closing price: $343.34\n"
     ]
    }
   ],
   "source": [
    "# Pick AGG and SPY close prices\n",
    "agg_close_price = data[\"AGG\"][\"close\"][0]\n",
    "spy_close_price = data[\"SPY\"][\"close\"][0]\n",
    "\n",
    "# Print AGG and SPY close prices\n",
    "print(f\"Current AGG closing price: ${agg_close_price}\")\n",
    "print(f\"Current SPY closing price: ${spy_close_price}\")"
   ]
  },
  {
   "cell_type": "code",
   "execution_count": 10,
   "metadata": {},
   "outputs": [
    {
     "name": "stdout",
     "output_type": "stream",
     "text": [
      "The current value of your 50 SPY shares is $17167.00\n",
      "The current value of your 200 AGG shares is $23528.00\n"
     ]
    }
   ],
   "source": [
    "# Compute the current value of shares\n",
    "my_spy_value = spy_close_price * my_spy\n",
    "my_agg_value = agg_close_price * my_agg\n",
    "\n",
    "# Print current value of share\n",
    "print(f\"The current value of your {my_spy} SPY shares is ${my_spy_value:0.2f}\")\n",
    "print(f\"The current value of your {my_agg} AGG shares is ${my_agg_value:0.2f}\")"
   ]
  },
  {
   "cell_type": "markdown",
   "metadata": {},
   "source": [
    "### Savings Health Analysis"
   ]
  },
  {
   "cell_type": "code",
   "execution_count": 11,
   "metadata": {},
   "outputs": [
    {
     "data": {
      "text/html": [
       "<div>\n",
       "<style scoped>\n",
       "    .dataframe tbody tr th:only-of-type {\n",
       "        vertical-align: middle;\n",
       "    }\n",
       "\n",
       "    .dataframe tbody tr th {\n",
       "        vertical-align: top;\n",
       "    }\n",
       "\n",
       "    .dataframe thead th {\n",
       "        text-align: right;\n",
       "    }\n",
       "</style>\n",
       "<table border=\"1\" class=\"dataframe\">\n",
       "  <thead>\n",
       "    <tr style=\"text-align: right;\">\n",
       "      <th></th>\n",
       "      <th>amount</th>\n",
       "    </tr>\n",
       "  </thead>\n",
       "  <tbody>\n",
       "    <tr>\n",
       "      <th>Crypto Value</th>\n",
       "      <td>18026.163</td>\n",
       "    </tr>\n",
       "    <tr>\n",
       "      <th>Stock Value</th>\n",
       "      <td>40695.000</td>\n",
       "    </tr>\n",
       "  </tbody>\n",
       "</table>\n",
       "</div>"
      ],
      "text/plain": [
       "                 amount\n",
       "Crypto Value  18026.163\n",
       "Stock Value   40695.000"
      ]
     },
     "metadata": {},
     "output_type": "display_data"
    }
   ],
   "source": [
    "# Set monthly household income\n",
    "monthly_income = 12000\n",
    "\n",
    "# Create savings DataFrame\n",
    "df_savings = pd.DataFrame(\n",
    "    [\n",
    "        [my_btc_value + my_eth_value],\n",
    "        [my_spy_value + my_agg_value]\n",
    "    ],\n",
    "    index = [\"Crypto Value\", \"Stock Value\"],\n",
    "    columns = [\"amount\"]\n",
    ")\n",
    "# Display savings DataFrame\n",
    "display(df_savings)"
   ]
  },
  {
   "cell_type": "code",
   "execution_count": 12,
   "metadata": {},
   "outputs": [
    {
     "data": {
      "text/plain": [
       "<matplotlib.axes._subplots.AxesSubplot at 0x11c2aa310>"
      ]
     },
     "execution_count": 12,
     "metadata": {},
     "output_type": "execute_result"
    },
    {
     "data": {
      "image/png": "[encoded data removed]",
      "text/plain": [
       "<Figure size 720x720 with 1 Axes>"
      ]
     },
     "metadata": {},
     "output_type": "display_data"
    }
   ],
   "source": [
    "# Plot savings pie chart\n",
    "df_savings.plot(kind = \"pie\", y = \"amount\", figsize = (10,10))"
   ]
  },
  {
   "cell_type": "code",
   "execution_count": 13,
   "metadata": {},
   "outputs": [
    {
     "name": "stdout",
     "output_type": "stream",
     "text": [
      "Congratulations! You have enough money in this fund.\n"
     ]
    }
   ],
   "source": [
    "# Set ideal emergency fund\n",
    "emergency_fund = monthly_income * 3\n",
    "\n",
    "# Calculate total amount of savings\n",
    "total_savings = df_savings[\"amount\"][\"Crypto Value\"] + df_savings[\"amount\"][\"Stock Value\"]\n",
    "\n",
    "# Validate saving health\n",
    "if total_savings > emergency_fund:\n",
    "    print(\"Congratulations! You have enough money in this fund.\")\n",
    "elif total_savings == emergency_fund:\n",
    "    print(\"Congratulations! You have reached your financial goal.\")\n",
    "else:\n",
    "    print(f\"You are ${(emergency_fund-total_savings):0.2f} away from reaching your financial goal.\")"
   ]
  },
  {
   "cell_type": "markdown",
   "metadata": {},
   "source": [
    "## Part 2 - Retirement Planning\n",
    "\n",
    "### Monte Carlo Simulation"
   ]
  },
  {
   "cell_type": "code",
   "execution_count": 14,
   "metadata": {},
   "outputs": [],
   "source": [
    "# Set start and end dates of five years back from today.\n",
    "# Sample results may vary from the solution based on the time frame chosen\n",
    "start_date = pd.Timestamp('2015-08-07', tz='America/New_York').isoformat()\n",
    "end_date = pd.Timestamp('2020-08-07', tz='America/New_York').isoformat()"
   ]
  },
  {
   "cell_type": "code",
   "execution_count": 15,
   "metadata": {},
   "outputs": [
    {
     "data": {
      "text/html": [
       "<div>\n",
       "<style scoped>\n",
       "    .dataframe tbody tr th:only-of-type {\n",
       "        vertical-align: middle;\n",
       "    }\n",
       "\n",
       "    .dataframe tbody tr th {\n",
       "        vertical-align: top;\n",
       "    }\n",
       "\n",
       "    .dataframe thead tr th {\n",
       "        text-align: left;\n",
       "    }\n",
       "</style>\n",
       "<table border=\"1\" class=\"dataframe\">\n",
       "  <thead>\n",
       "    <tr>\n",
       "      <th></th>\n",
       "      <th colspan=\"5\" halign=\"left\">AGG</th>\n",
       "      <th colspan=\"5\" halign=\"left\">SPY</th>\n",
       "    </tr>\n",
       "    <tr>\n",
       "      <th></th>\n",
       "      <th>open</th>\n",
       "      <th>high</th>\n",
       "      <th>low</th>\n",
       "      <th>close</th>\n",
       "      <th>volume</th>\n",
       "      <th>open</th>\n",
       "      <th>high</th>\n",
       "      <th>low</th>\n",
       "      <th>close</th>\n",
       "      <th>volume</th>\n",
       "    </tr>\n",
       "  </thead>\n",
       "  <tbody>\n",
       "    <tr>\n",
       "      <th>2015-08-07 00:00:00-04:00</th>\n",
       "      <td>109.14</td>\n",
       "      <td>109.2750</td>\n",
       "      <td>109.035</td>\n",
       "      <td>109.21</td>\n",
       "      <td>2041167.0</td>\n",
       "      <td>208.16</td>\n",
       "      <td>208.34</td>\n",
       "      <td>206.87</td>\n",
       "      <td>207.93</td>\n",
       "      <td>87669782</td>\n",
       "    </tr>\n",
       "    <tr>\n",
       "      <th>2015-08-10 00:00:00-04:00</th>\n",
       "      <td>109.15</td>\n",
       "      <td>109.1700</td>\n",
       "      <td>108.920</td>\n",
       "      <td>109.06</td>\n",
       "      <td>1149778.0</td>\n",
       "      <td>209.28</td>\n",
       "      <td>210.67</td>\n",
       "      <td>209.28</td>\n",
       "      <td>210.58</td>\n",
       "      <td>66755890</td>\n",
       "    </tr>\n",
       "    <tr>\n",
       "      <th>2015-08-11 00:00:00-04:00</th>\n",
       "      <td>109.42</td>\n",
       "      <td>109.5765</td>\n",
       "      <td>109.284</td>\n",
       "      <td>109.42</td>\n",
       "      <td>1420907.0</td>\n",
       "      <td>208.98</td>\n",
       "      <td>209.47</td>\n",
       "      <td>207.76</td>\n",
       "      <td>208.63</td>\n",
       "      <td>88424557</td>\n",
       "    </tr>\n",
       "    <tr>\n",
       "      <th>2015-08-12 00:00:00-04:00</th>\n",
       "      <td>109.55</td>\n",
       "      <td>109.7100</td>\n",
       "      <td>109.350</td>\n",
       "      <td>109.36</td>\n",
       "      <td>1468979.0</td>\n",
       "      <td>207.11</td>\n",
       "      <td>209.14</td>\n",
       "      <td>205.36</td>\n",
       "      <td>208.89</td>\n",
       "      <td>136171450</td>\n",
       "    </tr>\n",
       "    <tr>\n",
       "      <th>2015-08-13 00:00:00-04:00</th>\n",
       "      <td>109.36</td>\n",
       "      <td>109.3651</td>\n",
       "      <td>109.110</td>\n",
       "      <td>109.15</td>\n",
       "      <td>1465173.0</td>\n",
       "      <td>208.73</td>\n",
       "      <td>209.55</td>\n",
       "      <td>208.01</td>\n",
       "      <td>208.63</td>\n",
       "      <td>77197796</td>\n",
       "    </tr>\n",
       "  </tbody>\n",
       "</table>\n",
       "</div>"
      ],
      "text/plain": [
       "                              AGG                                        \\\n",
       "                             open      high      low   close     volume   \n",
       "2015-08-07 00:00:00-04:00  109.14  109.2750  109.035  109.21  2041167.0   \n",
       "2015-08-10 00:00:00-04:00  109.15  109.1700  108.920  109.06  1149778.0   \n",
       "2015-08-11 00:00:00-04:00  109.42  109.5765  109.284  109.42  1420907.0   \n",
       "2015-08-12 00:00:00-04:00  109.55  109.7100  109.350  109.36  1468979.0   \n",
       "2015-08-13 00:00:00-04:00  109.36  109.3651  109.110  109.15  1465173.0   \n",
       "\n",
       "                              SPY                                     \n",
       "                             open    high     low   close     volume  \n",
       "2015-08-07 00:00:00-04:00  208.16  208.34  206.87  207.93   87669782  \n",
       "2015-08-10 00:00:00-04:00  209.28  210.67  209.28  210.58   66755890  \n",
       "2015-08-11 00:00:00-04:00  208.98  209.47  207.76  208.63   88424557  \n",
       "2015-08-12 00:00:00-04:00  207.11  209.14  205.36  208.89  136171450  \n",
       "2015-08-13 00:00:00-04:00  208.73  209.55  208.01  208.63   77197796  "
      ]
     },
     "execution_count": 15,
     "metadata": {},
     "output_type": "execute_result"
    }
   ],
   "source": [
    "# Get 5 years' worth of historical data for SPY and AGG\n",
    "df_stock_data = alpaca.get_barset(\n",
    "    tickers,\n",
    "    timeframe,\n",
    "    start = start_date,\n",
    "    end = end_date\n",
    ").df\n",
    "\n",
    "#Preview data\n",
    "data\n",
    "\n",
    "# Display sample data\n",
    "df_stock_data.head()"
   ]
  },
  {
   "cell_type": "code",
   "execution_count": 16,
   "metadata": {},
   "outputs": [],
   "source": [
    "# Configuring a Monte Carlo simulation to forecast 30 years cumulative returns\n",
    "mc = MCSimulation(\n",
    "    portfolio_data = df_stock_data,\n",
    "    num_simulation = 100,\n",
    "    num_trading_days = 30*252)\n"
   ]
  },
  {
   "cell_type": "code",
   "execution_count": 17,
   "metadata": {},
   "outputs": [
    {
     "data": {
      "text/html": [
       "<div>\n",
       "<style scoped>\n",
       "    .dataframe tbody tr th:only-of-type {\n",
       "        vertical-align: middle;\n",
       "    }\n",
       "\n",
       "    .dataframe tbody tr th {\n",
       "        vertical-align: top;\n",
       "    }\n",
       "\n",
       "    .dataframe thead tr th {\n",
       "        text-align: left;\n",
       "    }\n",
       "</style>\n",
       "<table border=\"1\" class=\"dataframe\">\n",
       "  <thead>\n",
       "    <tr>\n",
       "      <th></th>\n",
       "      <th colspan=\"5\" halign=\"left\">AGG</th>\n",
       "      <th colspan=\"5\" halign=\"left\">SPY</th>\n",
       "    </tr>\n",
       "    <tr>\n",
       "      <th></th>\n",
       "      <th>open</th>\n",
       "      <th>high</th>\n",
       "      <th>low</th>\n",
       "      <th>close</th>\n",
       "      <th>volume</th>\n",
       "      <th>open</th>\n",
       "      <th>high</th>\n",
       "      <th>low</th>\n",
       "      <th>close</th>\n",
       "      <th>volume</th>\n",
       "    </tr>\n",
       "  </thead>\n",
       "  <tbody>\n",
       "    <tr>\n",
       "      <th>2015-08-07 00:00:00-04:00</th>\n",
       "      <td>109.14</td>\n",
       "      <td>109.2750</td>\n",
       "      <td>109.035</td>\n",
       "      <td>109.21</td>\n",
       "      <td>2041167.0</td>\n",
       "      <td>208.16</td>\n",
       "      <td>208.34</td>\n",
       "      <td>206.87</td>\n",
       "      <td>207.93</td>\n",
       "      <td>87669782</td>\n",
       "    </tr>\n",
       "    <tr>\n",
       "      <th>2015-08-10 00:00:00-04:00</th>\n",
       "      <td>109.15</td>\n",
       "      <td>109.1700</td>\n",
       "      <td>108.920</td>\n",
       "      <td>109.06</td>\n",
       "      <td>1149778.0</td>\n",
       "      <td>209.28</td>\n",
       "      <td>210.67</td>\n",
       "      <td>209.28</td>\n",
       "      <td>210.58</td>\n",
       "      <td>66755890</td>\n",
       "    </tr>\n",
       "    <tr>\n",
       "      <th>2015-08-11 00:00:00-04:00</th>\n",
       "      <td>109.42</td>\n",
       "      <td>109.5765</td>\n",
       "      <td>109.284</td>\n",
       "      <td>109.42</td>\n",
       "      <td>1420907.0</td>\n",
       "      <td>208.98</td>\n",
       "      <td>209.47</td>\n",
       "      <td>207.76</td>\n",
       "      <td>208.63</td>\n",
       "      <td>88424557</td>\n",
       "    </tr>\n",
       "    <tr>\n",
       "      <th>2015-08-12 00:00:00-04:00</th>\n",
       "      <td>109.55</td>\n",
       "      <td>109.7100</td>\n",
       "      <td>109.350</td>\n",
       "      <td>109.36</td>\n",
       "      <td>1468979.0</td>\n",
       "      <td>207.11</td>\n",
       "      <td>209.14</td>\n",
       "      <td>205.36</td>\n",
       "      <td>208.89</td>\n",
       "      <td>136171450</td>\n",
       "    </tr>\n",
       "    <tr>\n",
       "      <th>2015-08-13 00:00:00-04:00</th>\n",
       "      <td>109.36</td>\n",
       "      <td>109.3651</td>\n",
       "      <td>109.110</td>\n",
       "      <td>109.15</td>\n",
       "      <td>1465173.0</td>\n",
       "      <td>208.73</td>\n",
       "      <td>209.55</td>\n",
       "      <td>208.01</td>\n",
       "      <td>208.63</td>\n",
       "      <td>77197796</td>\n",
       "    </tr>\n",
       "  </tbody>\n",
       "</table>\n",
       "</div>"
      ],
      "text/plain": [
       "                              AGG                                        \\\n",
       "                             open      high      low   close     volume   \n",
       "2015-08-07 00:00:00-04:00  109.14  109.2750  109.035  109.21  2041167.0   \n",
       "2015-08-10 00:00:00-04:00  109.15  109.1700  108.920  109.06  1149778.0   \n",
       "2015-08-11 00:00:00-04:00  109.42  109.5765  109.284  109.42  1420907.0   \n",
       "2015-08-12 00:00:00-04:00  109.55  109.7100  109.350  109.36  1468979.0   \n",
       "2015-08-13 00:00:00-04:00  109.36  109.3651  109.110  109.15  1465173.0   \n",
       "\n",
       "                              SPY                                     \n",
       "                             open    high     low   close     volume  \n",
       "2015-08-07 00:00:00-04:00  208.16  208.34  206.87  207.93   87669782  \n",
       "2015-08-10 00:00:00-04:00  209.28  210.67  209.28  210.58   66755890  \n",
       "2015-08-11 00:00:00-04:00  208.98  209.47  207.76  208.63   88424557  \n",
       "2015-08-12 00:00:00-04:00  207.11  209.14  205.36  208.89  136171450  \n",
       "2015-08-13 00:00:00-04:00  208.73  209.55  208.01  208.63   77197796  "
      ]
     },
     "execution_count": 17,
     "metadata": {},
     "output_type": "execute_result"
    }
   ],
   "source": [
    "# Printing the simulation input data\n",
    "df_stock_data.head()"
   ]
  },
  {
   "cell_type": "code",
   "execution_count": 18,
   "metadata": {},
   "outputs": [
    {
     "name": "stdout",
     "output_type": "stream",
     "text": [
      "Running Monte Carlo simulation number 0.\n",
      "Running Monte Carlo simulation number 10.\n",
      "Running Monte Carlo simulation number 20.\n",
      "Running Monte Carlo simulation number 30.\n",
      "Running Monte Carlo simulation number 40.\n",
      "Running Monte Carlo simulation number 50.\n",
      "Running Monte Carlo simulation number 60.\n",
      "Running Monte Carlo simulation number 70.\n",
      "Running Monte Carlo simulation number 80.\n",
      "Running Monte Carlo simulation number 90.\n"
     ]
    },
    {
     "data": {
      "text/html": [
       "<div>\n",
       "<style scoped>\n",
       "    .dataframe tbody tr th:only-of-type {\n",
       "        vertical-align: middle;\n",
       "    }\n",
       "\n",
       "    .dataframe tbody tr th {\n",
       "        vertical-align: top;\n",
       "    }\n",
       "\n",
       "    .dataframe thead th {\n",
       "        text-align: right;\n",
       "    }\n",
       "</style>\n",
       "<table border=\"1\" class=\"dataframe\">\n",
       "  <thead>\n",
       "    <tr style=\"text-align: right;\">\n",
       "      <th></th>\n",
       "      <th>0</th>\n",
       "      <th>1</th>\n",
       "      <th>2</th>\n",
       "      <th>3</th>\n",
       "      <th>4</th>\n",
       "      <th>5</th>\n",
       "      <th>6</th>\n",
       "      <th>7</th>\n",
       "      <th>8</th>\n",
       "      <th>9</th>\n",
       "      <th>...</th>\n",
       "      <th>90</th>\n",
       "      <th>91</th>\n",
       "      <th>92</th>\n",
       "      <th>93</th>\n",
       "      <th>94</th>\n",
       "      <th>95</th>\n",
       "      <th>96</th>\n",
       "      <th>97</th>\n",
       "      <th>98</th>\n",
       "      <th>99</th>\n",
       "    </tr>\n",
       "  </thead>\n",
       "  <tbody>\n",
       "    <tr>\n",
       "      <th>0</th>\n",
       "      <td>1.000000</td>\n",
       "      <td>1.000000</td>\n",
       "      <td>1.000000</td>\n",
       "      <td>1.000000</td>\n",
       "      <td>1.000000</td>\n",
       "      <td>1.000000</td>\n",
       "      <td>1.000000</td>\n",
       "      <td>1.000000</td>\n",
       "      <td>1.000000</td>\n",
       "      <td>1.000000</td>\n",
       "      <td>...</td>\n",
       "      <td>1.000000</td>\n",
       "      <td>1.000000</td>\n",
       "      <td>1.000000</td>\n",
       "      <td>1.000000</td>\n",
       "      <td>1.000000</td>\n",
       "      <td>1.000000</td>\n",
       "      <td>1.000000</td>\n",
       "      <td>1.000000</td>\n",
       "      <td>1.000000</td>\n",
       "      <td>1.000000</td>\n",
       "    </tr>\n",
       "    <tr>\n",
       "      <th>1</th>\n",
       "      <td>1.000995</td>\n",
       "      <td>1.007411</td>\n",
       "      <td>1.011877</td>\n",
       "      <td>1.003678</td>\n",
       "      <td>1.009192</td>\n",
       "      <td>0.994072</td>\n",
       "      <td>0.998361</td>\n",
       "      <td>1.004371</td>\n",
       "      <td>1.004497</td>\n",
       "      <td>1.004142</td>\n",
       "      <td>...</td>\n",
       "      <td>1.012674</td>\n",
       "      <td>0.989184</td>\n",
       "      <td>0.999237</td>\n",
       "      <td>0.999441</td>\n",
       "      <td>0.996269</td>\n",
       "      <td>0.990269</td>\n",
       "      <td>1.002262</td>\n",
       "      <td>0.998900</td>\n",
       "      <td>1.007661</td>\n",
       "      <td>1.007000</td>\n",
       "    </tr>\n",
       "    <tr>\n",
       "      <th>2</th>\n",
       "      <td>1.006268</td>\n",
       "      <td>1.007203</td>\n",
       "      <td>1.019672</td>\n",
       "      <td>0.993078</td>\n",
       "      <td>1.010178</td>\n",
       "      <td>0.999283</td>\n",
       "      <td>0.999870</td>\n",
       "      <td>1.003620</td>\n",
       "      <td>1.010855</td>\n",
       "      <td>0.992993</td>\n",
       "      <td>...</td>\n",
       "      <td>1.007086</td>\n",
       "      <td>0.990073</td>\n",
       "      <td>0.994104</td>\n",
       "      <td>1.000629</td>\n",
       "      <td>0.984774</td>\n",
       "      <td>0.994053</td>\n",
       "      <td>0.998443</td>\n",
       "      <td>1.004858</td>\n",
       "      <td>1.008424</td>\n",
       "      <td>1.011015</td>\n",
       "    </tr>\n",
       "    <tr>\n",
       "      <th>3</th>\n",
       "      <td>1.001971</td>\n",
       "      <td>0.995461</td>\n",
       "      <td>1.016269</td>\n",
       "      <td>0.991923</td>\n",
       "      <td>1.016080</td>\n",
       "      <td>1.015464</td>\n",
       "      <td>1.002964</td>\n",
       "      <td>0.998567</td>\n",
       "      <td>1.016220</td>\n",
       "      <td>0.988249</td>\n",
       "      <td>...</td>\n",
       "      <td>1.012160</td>\n",
       "      <td>0.984954</td>\n",
       "      <td>1.000019</td>\n",
       "      <td>0.994769</td>\n",
       "      <td>0.987198</td>\n",
       "      <td>0.992579</td>\n",
       "      <td>0.998217</td>\n",
       "      <td>1.003658</td>\n",
       "      <td>1.005278</td>\n",
       "      <td>1.015047</td>\n",
       "    </tr>\n",
       "    <tr>\n",
       "      <th>4</th>\n",
       "      <td>0.998065</td>\n",
       "      <td>1.000248</td>\n",
       "      <td>1.024756</td>\n",
       "      <td>0.986303</td>\n",
       "      <td>1.015822</td>\n",
       "      <td>1.012092</td>\n",
       "      <td>1.005602</td>\n",
       "      <td>0.996563</td>\n",
       "      <td>1.022643</td>\n",
       "      <td>0.991300</td>\n",
       "      <td>...</td>\n",
       "      <td>1.002047</td>\n",
       "      <td>0.993656</td>\n",
       "      <td>1.012210</td>\n",
       "      <td>0.986222</td>\n",
       "      <td>0.983368</td>\n",
       "      <td>0.998862</td>\n",
       "      <td>1.003356</td>\n",
       "      <td>1.003958</td>\n",
       "      <td>0.997840</td>\n",
       "      <td>1.009393</td>\n",
       "    </tr>\n",
       "    <tr>\n",
       "      <th>...</th>\n",
       "      <td>...</td>\n",
       "      <td>...</td>\n",
       "      <td>...</td>\n",
       "      <td>...</td>\n",
       "      <td>...</td>\n",
       "      <td>...</td>\n",
       "      <td>...</td>\n",
       "      <td>...</td>\n",
       "      <td>...</td>\n",
       "      <td>...</td>\n",
       "      <td>...</td>\n",
       "      <td>...</td>\n",
       "      <td>...</td>\n",
       "      <td>...</td>\n",
       "      <td>...</td>\n",
       "      <td>...</td>\n",
       "      <td>...</td>\n",
       "      <td>...</td>\n",
       "      <td>...</td>\n",
       "      <td>...</td>\n",
       "      <td>...</td>\n",
       "    </tr>\n",
       "    <tr>\n",
       "      <th>7556</th>\n",
       "      <td>8.748293</td>\n",
       "      <td>12.698417</td>\n",
       "      <td>7.631336</td>\n",
       "      <td>6.685200</td>\n",
       "      <td>7.744213</td>\n",
       "      <td>4.044811</td>\n",
       "      <td>6.662275</td>\n",
       "      <td>3.539468</td>\n",
       "      <td>10.415886</td>\n",
       "      <td>5.803773</td>\n",
       "      <td>...</td>\n",
       "      <td>2.327600</td>\n",
       "      <td>9.392266</td>\n",
       "      <td>5.154134</td>\n",
       "      <td>9.653358</td>\n",
       "      <td>8.269302</td>\n",
       "      <td>4.971120</td>\n",
       "      <td>4.649078</td>\n",
       "      <td>6.751072</td>\n",
       "      <td>5.837535</td>\n",
       "      <td>5.166488</td>\n",
       "    </tr>\n",
       "    <tr>\n",
       "      <th>7557</th>\n",
       "      <td>8.744141</td>\n",
       "      <td>12.748808</td>\n",
       "      <td>7.680588</td>\n",
       "      <td>6.683137</td>\n",
       "      <td>7.729125</td>\n",
       "      <td>4.028523</td>\n",
       "      <td>6.595921</td>\n",
       "      <td>3.549056</td>\n",
       "      <td>10.432240</td>\n",
       "      <td>5.814933</td>\n",
       "      <td>...</td>\n",
       "      <td>2.354237</td>\n",
       "      <td>9.492100</td>\n",
       "      <td>5.155337</td>\n",
       "      <td>9.585771</td>\n",
       "      <td>8.323750</td>\n",
       "      <td>4.964772</td>\n",
       "      <td>4.659818</td>\n",
       "      <td>6.808685</td>\n",
       "      <td>5.830050</td>\n",
       "      <td>5.205033</td>\n",
       "    </tr>\n",
       "    <tr>\n",
       "      <th>7558</th>\n",
       "      <td>8.719303</td>\n",
       "      <td>12.809504</td>\n",
       "      <td>7.666902</td>\n",
       "      <td>6.669310</td>\n",
       "      <td>7.678431</td>\n",
       "      <td>4.021795</td>\n",
       "      <td>6.560543</td>\n",
       "      <td>3.510465</td>\n",
       "      <td>10.546994</td>\n",
       "      <td>5.714411</td>\n",
       "      <td>...</td>\n",
       "      <td>2.335815</td>\n",
       "      <td>9.396604</td>\n",
       "      <td>5.178564</td>\n",
       "      <td>9.464654</td>\n",
       "      <td>8.271302</td>\n",
       "      <td>4.977431</td>\n",
       "      <td>4.688856</td>\n",
       "      <td>6.817839</td>\n",
       "      <td>5.831502</td>\n",
       "      <td>5.206458</td>\n",
       "    </tr>\n",
       "    <tr>\n",
       "      <th>7559</th>\n",
       "      <td>8.695480</td>\n",
       "      <td>12.851681</td>\n",
       "      <td>7.595260</td>\n",
       "      <td>6.666190</td>\n",
       "      <td>7.611558</td>\n",
       "      <td>4.037862</td>\n",
       "      <td>6.515968</td>\n",
       "      <td>3.513647</td>\n",
       "      <td>10.555588</td>\n",
       "      <td>5.740001</td>\n",
       "      <td>...</td>\n",
       "      <td>2.352264</td>\n",
       "      <td>9.547197</td>\n",
       "      <td>5.167213</td>\n",
       "      <td>9.381825</td>\n",
       "      <td>8.245025</td>\n",
       "      <td>4.972167</td>\n",
       "      <td>4.633538</td>\n",
       "      <td>6.862609</td>\n",
       "      <td>5.917306</td>\n",
       "      <td>5.171808</td>\n",
       "    </tr>\n",
       "    <tr>\n",
       "      <th>7560</th>\n",
       "      <td>8.642397</td>\n",
       "      <td>12.854556</td>\n",
       "      <td>7.601297</td>\n",
       "      <td>6.607620</td>\n",
       "      <td>7.631638</td>\n",
       "      <td>4.035922</td>\n",
       "      <td>6.508788</td>\n",
       "      <td>3.507435</td>\n",
       "      <td>10.533362</td>\n",
       "      <td>5.786698</td>\n",
       "      <td>...</td>\n",
       "      <td>2.367863</td>\n",
       "      <td>9.609312</td>\n",
       "      <td>5.184756</td>\n",
       "      <td>9.362970</td>\n",
       "      <td>8.248160</td>\n",
       "      <td>4.957342</td>\n",
       "      <td>4.589269</td>\n",
       "      <td>6.945228</td>\n",
       "      <td>5.889803</td>\n",
       "      <td>5.167459</td>\n",
       "    </tr>\n",
       "  </tbody>\n",
       "</table>\n",
       "<p>7561 rows × 100 columns</p>\n",
       "</div>"
      ],
      "text/plain": [
       "            0          1         2         3         4         5         6   \\\n",
       "0     1.000000   1.000000  1.000000  1.000000  1.000000  1.000000  1.000000   \n",
       "1     1.000995   1.007411  1.011877  1.003678  1.009192  0.994072  0.998361   \n",
       "2     1.006268   1.007203  1.019672  0.993078  1.010178  0.999283  0.999870   \n",
       "3     1.001971   0.995461  1.016269  0.991923  1.016080  1.015464  1.002964   \n",
       "4     0.998065   1.000248  1.024756  0.986303  1.015822  1.012092  1.005602   \n",
       "...        ...        ...       ...       ...       ...       ...       ...   \n",
       "7556  8.748293  12.698417  7.631336  6.685200  7.744213  4.044811  6.662275   \n",
       "7557  8.744141  12.748808  7.680588  6.683137  7.729125  4.028523  6.595921   \n",
       "7558  8.719303  12.809504  7.666902  6.669310  7.678431  4.021795  6.560543   \n",
       "7559  8.695480  12.851681  7.595260  6.666190  7.611558  4.037862  6.515968   \n",
       "7560  8.642397  12.854556  7.601297  6.607620  7.631638  4.035922  6.508788   \n",
       "\n",
       "            7          8         9   ...        90        91        92  \\\n",
       "0     1.000000   1.000000  1.000000  ...  1.000000  1.000000  1.000000   \n",
       "1     1.004371   1.004497  1.004142  ...  1.012674  0.989184  0.999237   \n",
       "2     1.003620   1.010855  0.992993  ...  1.007086  0.990073  0.994104   \n",
       "3     0.998567   1.016220  0.988249  ...  1.012160  0.984954  1.000019   \n",
       "4     0.996563   1.022643  0.991300  ...  1.002047  0.993656  1.012210   \n",
       "...        ...        ...       ...  ...       ...       ...       ...   \n",
       "7556  3.539468  10.415886  5.803773  ...  2.327600  9.392266  5.154134   \n",
       "7557  3.549056  10.432240  5.814933  ...  2.354237  9.492100  5.155337   \n",
       "7558  3.510465  10.546994  5.714411  ...  2.335815  9.396604  5.178564   \n",
       "7559  3.513647  10.555588  5.740001  ...  2.352264  9.547197  5.167213   \n",
       "7560  3.507435  10.533362  5.786698  ...  2.367863  9.609312  5.184756   \n",
       "\n",
       "            93        94        95        96        97        98        99  \n",
       "0     1.000000  1.000000  1.000000  1.000000  1.000000  1.000000  1.000000  \n",
       "1     0.999441  0.996269  0.990269  1.002262  0.998900  1.007661  1.007000  \n",
       "2     1.000629  0.984774  0.994053  0.998443  1.004858  1.008424  1.011015  \n",
       "3     0.994769  0.987198  0.992579  0.998217  1.003658  1.005278  1.015047  \n",
       "4     0.986222  0.983368  0.998862  1.003356  1.003958  0.997840  1.009393  \n",
       "...        ...       ...       ...       ...       ...       ...       ...  \n",
       "7556  9.653358  8.269302  4.971120  4.649078  6.751072  5.837535  5.166488  \n",
       "7557  9.585771  8.323750  4.964772  4.659818  6.808685  5.830050  5.205033  \n",
       "7558  9.464654  8.271302  4.977431  4.688856  6.817839  5.831502  5.206458  \n",
       "7559  9.381825  8.245025  4.972167  4.633538  6.862609  5.917306  5.171808  \n",
       "7560  9.362970  8.248160  4.957342  4.589269  6.945228  5.889803  5.167459  \n",
       "\n",
       "[7561 rows x 100 columns]"
      ]
     },
     "execution_count": 18,
     "metadata": {},
     "output_type": "execute_result"
    }
   ],
   "source": [
    "# Running a Monte Carlo simulation to forecast 30 years cumulative returns\n",
    "mc.calc_cumulative_return()"
   ]
  },
  {
   "cell_type": "code",
   "execution_count": 19,
   "metadata": {},
   "outputs": [
    {
     "data": {
      "text/plain": [
       "<matplotlib.axes._subplots.AxesSubplot at 0x11c0d1730>"
      ]
     },
     "execution_count": 19,
     "metadata": {},
     "output_type": "execute_result"
    },
    {
     "data": {
      "image/png": "[encoded data removed]",
      "text/plain": [
       "<Figure size 432x288 with 1 Axes>"
      ]
     },
     "metadata": {
      "needs_background": "light"
     },
     "output_type": "display_data"
    }
   ],
   "source": [
    "# Plot simulation outcomes\n",
    "mc.plot_simulation()"
   ]
  },
  {
   "cell_type": "code",
   "execution_count": 20,
   "metadata": {},
   "outputs": [
    {
     "data": {
      "text/plain": [
       "<matplotlib.axes._subplots.AxesSubplot at 0x11c5c7d60>"
      ]
     },
     "execution_count": 20,
     "metadata": {},
     "output_type": "execute_result"
    },
    {
     "data": {
      "image/png": "[encoded data removed]",
      "text/plain": [
       "<Figure size 432x288 with 1 Axes>"
      ]
     },
     "metadata": {
      "needs_background": "light"
     },
     "output_type": "display_data"
    }
   ],
   "source": [
    "# Plot probability distribution and confidence intervals\n",
    "mc.plot_distribution()"
   ]
  },
  {
   "cell_type": "markdown",
   "metadata": {},
   "source": [
    "### Retirement Analysis"
   ]
  },
  {
   "cell_type": "code",
   "execution_count": 21,
   "metadata": {},
   "outputs": [
    {
     "name": "stdout",
     "output_type": "stream",
     "text": [
      "count           100.000000\n",
      "mean              7.246459\n",
      "std               4.045853\n",
      "min               1.582598\n",
      "25%               4.486561\n",
      "50%               6.176399\n",
      "75%               9.235034\n",
      "max              22.153426\n",
      "95% CI Lower      1.840962\n",
      "95% CI Upper     18.305305\n",
      "Name: 7560, dtype: float64\n"
     ]
    }
   ],
   "source": [
    "# Fetch summary statistics from the Monte Carlo simulation results\n",
    "summary_stats = mc.summarize_cumulative_return()\n",
    "\n",
    "# Print summary statistics\n",
    "print(summary_stats)"
   ]
  },
  {
   "cell_type": "markdown",
   "metadata": {},
   "source": [
    "### Calculate the expected portfolio return at the 95% lower and upper confidence intervals based on a `$20,000` initial investment."
   ]
  },
  {
   "cell_type": "code",
   "execution_count": 22,
   "metadata": {},
   "outputs": [
    {
     "name": "stdout",
     "output_type": "stream",
     "text": [
      "There is a 95% chance that an initial investment of $20000 in the portfolio over the next 30 years will end within in the range of $36819.24 and $366106.1\n"
     ]
    }
   ],
   "source": [
    "# Set initial investment\n",
    "initial_investment = 20000\n",
    "\n",
    "# Use the lower and upper `95%` confidence intervals to calculate the range of the possible outcomes of our $20,000\n",
    "lower_ci = round(summary_stats[8] * initial_investment, 2)\n",
    "upper_ci = round(summary_stats[9] * initial_investment, 2)\n",
    "\n",
    "# Print results\n",
    "print(f\"There is a 95% chance that an initial investment of ${initial_investment} in the portfolio\"\n",
    "      f\" over the next 30 years will end within in the range of\"\n",
    "      f\" ${lower_ci} and ${upper_ci}\")"
   ]
  },
  {
   "cell_type": "markdown",
   "metadata": {},
   "source": [
    "### Calculate the expected portfolio return at the `95%` lower and upper confidence intervals based on a `50%` increase in the initial investment."
   ]
  },
  {
   "cell_type": "code",
   "execution_count": 23,
   "metadata": {},
   "outputs": [
    {
     "name": "stdout",
     "output_type": "stream",
     "text": [
      "There is a 95% chance that an initial investment of $30000.0 in the portfolio over the next 30 years will end within in the range of $55228.86 and $549159.15\n"
     ]
    }
   ],
   "source": [
    "# Set initial investment\n",
    "initial_investment_2 = 20000 * 1.5\n",
    "\n",
    "# Use the lower and upper `95%` confidence intervals to calculate the range of the possible outcomes of our $30,000\n",
    "lower_ci_2 = round(summary_stats[8] * initial_investment_2, 2)\n",
    "upper_ci_2 = round(summary_stats[9] * initial_investment_2, 2)\n",
    "\n",
    "# Print results\n",
    "print(f\"There is a 95% chance that an initial investment of ${initial_investment_2} in the portfolio\"\n",
    "      f\" over the next 30 years will end within in the range of\"\n",
    "      f\" ${lower_ci_2} and ${upper_ci_2}\")"
   ]
  }
 ],
 "metadata": {
  "kernelspec": {
   "display_name": "Python 3",
   "language": "python",
   "name": "python3"
  },
  "language_info": {
   "codemirror_mode": {
    "name": "ipython",
    "version": 3
   },
   "file_extension": ".py",
   "mimetype": "text/x-python",
   "name": "python",
   "nbconvert_exporter": "python",
   "pygments_lexer": "ipython3",
   "version": "3.8.3"
  }
 },
 "nbformat": 4,
 "nbformat_minor": 4
}
